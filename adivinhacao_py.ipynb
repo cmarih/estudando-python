{
  "nbformat": 4,
  "nbformat_minor": 0,
  "metadata": {
    "colab": {
      "name": "adivinhacao.py",
      "provenance": [],
      "collapsed_sections": [],
      "authorship_tag": "ABX9TyPWYvTSU7KY6xDvs70Isxd8",
      "include_colab_link": true
    },
    "kernelspec": {
      "name": "python3",
      "display_name": "Python 3"
    },
    "language_info": {
      "name": "python"
    }
  },
  "cells": [
    {
      "cell_type": "markdown",
      "metadata": {
        "id": "view-in-github",
        "colab_type": "text"
      },
      "source": [
        "<a href=\"https://colab.research.google.com/github/cmarih/estudando-python/blob/master/adivinhacao_py.ipynb\" target=\"_parent\"><img src=\"https://colab.research.google.com/assets/colab-badge.svg\" alt=\"Open In Colab\"/></a>"
      ]
    },
    {
      "cell_type": "code",
      "metadata": {
        "id": "wJ1-IzrTtCgj"
      },
      "source": [
        "import random\n",
        "\n",
        "def jogar():\n",
        "\n",
        "  print(\"*********************************\")\n",
        "  print(\"Bem vindo ao jogo de Adivinhação!\")\n",
        "  print(\"*********************************\")\n",
        "  \n",
        "  numero_secreto = random.randrange(1, 101)\n",
        "\n",
        "  total_de_tentativas = 0\n",
        "  rodada = 1\n",
        "\n",
        "  pontos = 1000\n",
        "\n",
        "  print(\"Nível de dificuldade: 1 Fácil | 2 Médio | 3 Difícil\")\n",
        "  nivel = int(input(\"Informe o nìvel de dificuldade: \"))\n",
        "\n",
        "  if nivel == 1:\n",
        "    total_de_tentativas = 15\n",
        "  elif nivel == 2:\n",
        "    total_de_tentativas = 10\n",
        "  else:\n",
        "    total_de_tentativas = 5\n",
        "\n",
        "  for rodada in range(1, total_de_tentativas + 1):\n",
        "    print(f\"Tentativa {rodada} de {total_de_tentativas}\")\n",
        "\n",
        "    chute = int(input(\"Digite o seu número de 1 a 100: \"))\n",
        "\n",
        "    if (chute < 1 or chute > 100):\n",
        "          print(\"Você deve digitar um número entre 1 e 100!\")\n",
        "          continue\n",
        "          \n",
        "    print(\"Você digitou: \", chute)\n",
        "\n",
        "    acertou = chute == numero_secreto\n",
        "    maior = chute > numero_secreto\n",
        "    menor = chute < numero_secreto\n",
        "\n",
        "    if acertou:\n",
        "      print(f\"Você acertou! Total de pontos {pontos}\")\n",
        "      break\n",
        "    else:\n",
        "      if maior:\n",
        "          print(\"Você errou! O seu chute foi maior que o número secreto.\")\n",
        "      elif menor:\n",
        "          print(\"Você errou! O seu chute foi menor que o número secreto.\")\n",
        "        \n",
        "    if rodada == total_de_tentativas:\n",
        "          print(f\"O número secreto era {numero_secreto}. Você fez {pontos}\")\n",
        "          \n",
        "    pontos_perdidos = abs(numero_secreto - chute)\n",
        "    pontos = pontos - pontos_perdidos\n",
        "\n",
        "  print(f\"Fim do jogo!\")"
      ],
      "execution_count": 3,
      "outputs": []
    }
  ]
}